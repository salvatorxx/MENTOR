{
  "nbformat": 4,
  "nbformat_minor": 0,
  "metadata": {
    "colab": {
      "provenance": [],
      "authorship_tag": "ABX9TyOxR3phtumO0o+U9mVJsQDm",
      "include_colab_link": true
    },
    "kernelspec": {
      "name": "python3",
      "display_name": "Python 3"
    },
    "language_info": {
      "name": "python"
    }
  },
  "cells": [
    {
      "cell_type": "markdown",
      "metadata": {
        "id": "view-in-github",
        "colab_type": "text"
      },
      "source": [
        "<a href=\"https://colab.research.google.com/github/salvatorxx/Exam/blob/main/sess1_mentor.ipynb\" target=\"_parent\"><img src=\"https://colab.research.google.com/assets/colab-badge.svg\" alt=\"Open In Colab\"/></a>"
      ]
    },
    {
      "cell_type": "code",
      "source": [
        "import numpy as np"
      ],
      "metadata": {
        "id": "o16U3fgcwFHg"
      },
      "execution_count": 5,
      "outputs": []
    },
    {
      "cell_type": "code",
      "source": [
        "print(\"nilai\" + str(10))"
      ],
      "metadata": {
        "colab": {
          "base_uri": "https://localhost:8080/"
        },
        "id": "q2G3Jtf1wIl7",
        "outputId": "10ea0a37-3a0c-430e-9c99-84a77b56ec30"
      },
      "execution_count": 6,
      "outputs": [
        {
          "output_type": "stream",
          "name": "stdout",
          "text": [
            "nilai10\n"
          ]
        }
      ]
    },
    {
      "cell_type": "code",
      "source": [
        "print (\"nilai %d adalah integer\" % 45)"
      ],
      "metadata": {
        "colab": {
          "base_uri": "https://localhost:8080/"
        },
        "id": "7uRxXg6xwpBu",
        "outputId": "47d101bb-b834-4565-8002-8c1800bda142"
      },
      "execution_count": 7,
      "outputs": [
        {
          "output_type": "stream",
          "name": "stdout",
          "text": [
            "nilai 45 adalah integer\n"
          ]
        }
      ]
    },
    {
      "cell_type": "code",
      "source": [
        "print(\"nilai float : %.4f\" % 32.012)"
      ],
      "metadata": {
        "colab": {
          "base_uri": "https://localhost:8080/"
        },
        "id": "-Dgq_qasw8Ny",
        "outputId": "d7cdba8f-b1e3-4794-9a51-149d68710fb5"
      },
      "execution_count": 10,
      "outputs": [
        {
          "output_type": "stream",
          "name": "stdout",
          "text": [
            "nilai float : 32.0120\n"
          ]
        }
      ]
    },
    {
      "cell_type": "code",
      "source": [
        "print(\"nilai %d + %d sama dengan %d\" % (10, 2, (10+2)))"
      ],
      "metadata": {
        "colab": {
          "base_uri": "https://localhost:8080/"
        },
        "id": "kTHKtrcRxS6q",
        "outputId": "61777d72-27b0-4826-c5fc-82bf2349d503"
      },
      "execution_count": 11,
      "outputs": [
        {
          "output_type": "stream",
          "name": "stdout",
          "text": [
            "nilai 10 + 2 sama dengan 12\n"
          ]
        }
      ]
    },
    {
      "cell_type": "markdown",
      "source": [
        "PENAMAAN VARIABEL"
      ],
      "metadata": {
        "id": "tQ_1ZGvDySti"
      }
    },
    {
      "cell_type": "code",
      "source": [
        "# bisanya pake _"
      ],
      "metadata": {
        "id": "Y33e0xTNyU1Z"
      },
      "execution_count": null,
      "outputs": []
    },
    {
      "cell_type": "code",
      "source": [
        "1variabel = 10"
      ],
      "metadata": {
        "colab": {
          "base_uri": "https://localhost:8080/",
          "height": 135
        },
        "id": "ai8T8zPQyZFs",
        "outputId": "3f4258c9-0e54-411b-c3cd-1d958e106995"
      },
      "execution_count": 16,
      "outputs": [
        {
          "output_type": "error",
          "ename": "SyntaxError",
          "evalue": "ignored",
          "traceback": [
            "\u001b[0;36m  File \u001b[0;32m\"<ipython-input-16-7bfa9b7a2d37>\"\u001b[0;36m, line \u001b[0;32m1\u001b[0m\n\u001b[0;31m    1variabel = 10\u001b[0m\n\u001b[0m            ^\u001b[0m\n\u001b[0;31mSyntaxError\u001b[0m\u001b[0;31m:\u001b[0m invalid syntax\n"
          ]
        }
      ]
    },
    {
      "cell_type": "code",
      "source": [
        "$variabel = \"hello world\""
      ],
      "metadata": {
        "colab": {
          "base_uri": "https://localhost:8080/",
          "height": 135
        },
        "id": "FfEruWc3ygX6",
        "outputId": "6109bf43-ee01-45d6-db09-8f4462d9d939"
      },
      "execution_count": 17,
      "outputs": [
        {
          "output_type": "error",
          "ename": "SyntaxError",
          "evalue": "ignored",
          "traceback": [
            "\u001b[0;36m  File \u001b[0;32m\"<ipython-input-17-ce6b0e96f315>\"\u001b[0;36m, line \u001b[0;32m1\u001b[0m\n\u001b[0;31m    $variabel = \"hello world\"\u001b[0m\n\u001b[0m    ^\u001b[0m\n\u001b[0;31mSyntaxError\u001b[0m\u001b[0;31m:\u001b[0m invalid syntax\n"
          ]
        }
      ]
    },
    {
      "cell_type": "code",
      "source": [
        "-var = 10"
      ],
      "metadata": {
        "colab": {
          "base_uri": "https://localhost:8080/",
          "height": 135
        },
        "id": "Ws4AkMNEymYR",
        "outputId": "3c683508-b1e7-46ab-9e36-7ab1e7856bf9"
      },
      "execution_count": 18,
      "outputs": [
        {
          "output_type": "error",
          "ename": "SyntaxError",
          "evalue": "ignored",
          "traceback": [
            "\u001b[0;36m  File \u001b[0;32m\"<ipython-input-18-8a64d731ed5a>\"\u001b[0;36m, line \u001b[0;32m1\u001b[0m\n\u001b[0;31m    -var = 10\u001b[0m\n\u001b[0m             ^\u001b[0m\n\u001b[0;31mSyntaxError\u001b[0m\u001b[0;31m:\u001b[0m can't assign to operator\n"
          ]
        }
      ]
    },
    {
      "cell_type": "code",
      "source": [
        "_var = 10\n",
        "__var = 10\n",
        "_______________var = 10\n",
        "_var_ = 10"
      ],
      "metadata": {
        "id": "NJ4I5y-yyqL0"
      },
      "execution_count": 22,
      "outputs": []
    },
    {
      "cell_type": "code",
      "source": [
        "_umur = 20\n",
        "type (_umur)"
      ],
      "metadata": {
        "colab": {
          "base_uri": "https://localhost:8080/"
        },
        "id": "GgvULHLHzB-Z",
        "outputId": "389300a5-bcf0-4d59-918d-7bd291fa04aa"
      },
      "execution_count": 23,
      "outputs": [
        {
          "output_type": "execute_result",
          "data": {
            "text/plain": [
              "int"
            ]
          },
          "metadata": {},
          "execution_count": 23
        }
      ]
    },
    {
      "cell_type": "markdown",
      "source": [
        "int() untuk mengubah menjadi integer;\n",
        "long() untuk mengubah menjadi integer panjang;\n",
        "float() untuk mengubah menjadi float;\n",
        "bool() untuk mengubah menjadi boolean;\n",
        "chr() untuk mengubah menjadi karakter;\n",
        "str() untuk mengubah menjadi string.\n",
        "bin() untuk mengubah menjadi bilangan Biner.\n",
        "hex() untuk mengubah menjadi bilangan Heksadesimal.\n",
        "oct() untuk mengubah menjadi bilangan okta."
      ],
      "metadata": {
        "id": "ZeG8fkGczQnB"
      }
    },
    {
      "cell_type": "markdown",
      "source": [
        "INPUT"
      ],
      "metadata": {
        "id": "1ZiYaNuSzj-x"
      }
    },
    {
      "cell_type": "code",
      "source": [
        "A = input(\"var A : \")\n",
        "B = input(\"var B : \")\n",
        "\n",
        "C = int(A) + int(B)\n",
        "print(\"A + B = \" + str(C))"
      ],
      "metadata": {
        "colab": {
          "base_uri": "https://localhost:8080/"
        },
        "id": "eCDVji9BzdQR",
        "outputId": "98c6f7f1-6041-4ccf-d5b5-6e2b16cf2bb8"
      },
      "execution_count": 24,
      "outputs": [
        {
          "output_type": "stream",
          "name": "stdout",
          "text": [
            "var A : 4\n",
            "var B : 5\n",
            "A + B = 9\n"
          ]
        }
      ]
    },
    {
      "cell_type": "code",
      "source": [
        "D = input(\"var D : \")\n",
        "E = input(\"var E : \")\n",
        "\n",
        "str(C) = str(D) + str(E)\n",
        "print(\"A + B = \" + str(C))"
      ],
      "metadata": {
        "colab": {
          "base_uri": "https://localhost:8080/",
          "height": 135
        },
        "id": "0Mk-e7fR0Aw4",
        "outputId": "ada5fcb1-2f3e-4fa1-ac69-d5476c234097"
      },
      "execution_count": 27,
      "outputs": [
        {
          "output_type": "error",
          "ename": "SyntaxError",
          "evalue": "ignored",
          "traceback": [
            "\u001b[0;36m  File \u001b[0;32m\"<ipython-input-27-1f2b65aa814f>\"\u001b[0;36m, line \u001b[0;32m4\u001b[0m\n\u001b[0;31m    str(C) = str(D) + str(E)\u001b[0m\n\u001b[0m                            ^\u001b[0m\n\u001b[0;31mSyntaxError\u001b[0m\u001b[0;31m:\u001b[0m can't assign to function call\n"
          ]
        }
      ]
    },
    {
      "cell_type": "markdown",
      "source": [
        "NUMPY"
      ],
      "metadata": {
        "id": "6HSyeegw0qNp"
      }
    },
    {
      "cell_type": "code",
      "source": [
        " # numpy -> numerical python"
      ],
      "metadata": {
        "id": "SnD1iUtI0rV5"
      },
      "execution_count": null,
      "outputs": []
    },
    {
      "cell_type": "code",
      "source": [
        "#array -> n dimensional array\n",
        "\n",
        "#n = 0,1,2,3\n",
        "#n = 0 -> 0 dimensional array "
      ],
      "metadata": {
        "id": "i5X3vKGI0yii"
      },
      "execution_count": null,
      "outputs": []
    },
    {
      "cell_type": "code",
      "source": [
        "#0-d\n",
        "x = np.array(2, dtype=int)\n",
        "print(x)"
      ],
      "metadata": {
        "colab": {
          "base_uri": "https://localhost:8080/"
        },
        "id": "YVmontKB1JNY",
        "outputId": "5d1ecaa3-e2d9-4623-9256-cad87af99c90"
      },
      "execution_count": 29,
      "outputs": [
        {
          "output_type": "stream",
          "name": "stdout",
          "text": [
            "2\n"
          ]
        }
      ]
    },
    {
      "cell_type": "code",
      "source": [
        "#1-d (vektor)\n",
        "arr = [1,2,3]\n",
        "x = np.array(arr, dtype=int)\n",
        "print(x)\n",
        "\n",
        "y = np.array([1,2,3,4,5,6])\n",
        "print(y)"
      ],
      "metadata": {
        "colab": {
          "base_uri": "https://localhost:8080/"
        },
        "id": "mBAJUN4a1OrY",
        "outputId": "995db195-5b3a-4165-c46f-ea7e652882d8"
      },
      "execution_count": 32,
      "outputs": [
        {
          "output_type": "stream",
          "name": "stdout",
          "text": [
            "[1 2 3]\n",
            "[1 2 3 4 5 6]\n"
          ]
        }
      ]
    },
    {
      "cell_type": "code",
      "source": [
        "#2-d (matrix)\n",
        "matrix = np.array([[1,2,3,5],\n",
        "                   [4,5,6,6],\n",
        "                   [7,8,9,9]])\n",
        "print(matrix)\n",
        "matrix.shape"
      ],
      "metadata": {
        "colab": {
          "base_uri": "https://localhost:8080/"
        },
        "id": "4m61xaAV2Xts",
        "outputId": "c733192c-93be-434e-9548-0c06da0917c2"
      },
      "execution_count": 34,
      "outputs": [
        {
          "output_type": "stream",
          "name": "stdout",
          "text": [
            "[[1 2 3 5]\n",
            " [4 5 6 6]\n",
            " [7 8 9 9]]\n"
          ]
        },
        {
          "output_type": "execute_result",
          "data": {
            "text/plain": [
              "(3, 4)"
            ]
          },
          "metadata": {},
          "execution_count": 34
        }
      ]
    },
    {
      "cell_type": "code",
      "source": [
        "matrix = np.array([[[1, 2, 3],\n",
        "                    [4, 5, 6]],\n",
        "                   [[7, 8, 9],\n",
        "                    [10,11,12]]])"
      ],
      "metadata": {
        "id": "GVmzsT8F3Duv"
      },
      "execution_count": null,
      "outputs": []
    },
    {
      "cell_type": "markdown",
      "source": [
        "CREATE MATRIX ZERO"
      ],
      "metadata": {
        "id": "WCqA9n4k3gRb"
      }
    },
    {
      "cell_type": "code",
      "source": [
        "a = np.ones(100)\n",
        "print(a)"
      ],
      "metadata": {
        "colab": {
          "base_uri": "https://localhost:8080/"
        },
        "id": "DKRxXQTX3inc",
        "outputId": "1126f36f-977a-425e-9c74-8c30083fc44e"
      },
      "execution_count": 36,
      "outputs": [
        {
          "output_type": "stream",
          "name": "stdout",
          "text": [
            "[1. 1. 1. 1. 1. 1. 1. 1. 1. 1. 1. 1. 1. 1. 1. 1. 1. 1. 1. 1. 1. 1. 1. 1.\n",
            " 1. 1. 1. 1. 1. 1. 1. 1. 1. 1. 1. 1. 1. 1. 1. 1. 1. 1. 1. 1. 1. 1. 1. 1.\n",
            " 1. 1. 1. 1. 1. 1. 1. 1. 1. 1. 1. 1. 1. 1. 1. 1. 1. 1. 1. 1. 1. 1. 1. 1.\n",
            " 1. 1. 1. 1. 1. 1. 1. 1. 1. 1. 1. 1. 1. 1. 1. 1. 1. 1. 1. 1. 1. 1. 1. 1.\n",
            " 1. 1. 1. 1.]\n"
          ]
        }
      ]
    },
    {
      "cell_type": "code",
      "source": [
        "zero_matrix = np.zeros((2,3,2))\n",
        "print(zero_matrix)"
      ],
      "metadata": {
        "colab": {
          "base_uri": "https://localhost:8080/"
        },
        "id": "n5tla9aK4Drb",
        "outputId": "29097712-f0b8-41f4-f84e-a581c5f42d80"
      },
      "execution_count": 38,
      "outputs": [
        {
          "output_type": "stream",
          "name": "stdout",
          "text": [
            "[[[0. 0.]\n",
            "  [0. 0.]\n",
            "  [0. 0.]]\n",
            "\n",
            " [[0. 0.]\n",
            "  [0. 0.]\n",
            "  [0. 0.]]]\n"
          ]
        }
      ]
    },
    {
      "cell_type": "markdown",
      "source": [
        "GENERATE MATRIX"
      ],
      "metadata": {
        "id": "L-DGknLm4ckE"
      }
    },
    {
      "cell_type": "code",
      "source": [
        "#random -> np.linspace()"
      ],
      "metadata": {
        "id": "gy5hnxc94eiq"
      },
      "execution_count": null,
      "outputs": []
    },
    {
      "cell_type": "code",
      "source": [
        "generated_matrix = np.linspace(1,5)\n",
        "print(generated_matrix)"
      ],
      "metadata": {
        "colab": {
          "base_uri": "https://localhost:8080/"
        },
        "id": "AFRmTlw54llD",
        "outputId": "868bf2e7-4a35-4faf-a857-da79c71d2e03"
      },
      "execution_count": 40,
      "outputs": [
        {
          "output_type": "stream",
          "name": "stdout",
          "text": [
            "[1.         1.08163265 1.16326531 1.24489796 1.32653061 1.40816327\n",
            " 1.48979592 1.57142857 1.65306122 1.73469388 1.81632653 1.89795918\n",
            " 1.97959184 2.06122449 2.14285714 2.2244898  2.30612245 2.3877551\n",
            " 2.46938776 2.55102041 2.63265306 2.71428571 2.79591837 2.87755102\n",
            " 2.95918367 3.04081633 3.12244898 3.20408163 3.28571429 3.36734694\n",
            " 3.44897959 3.53061224 3.6122449  3.69387755 3.7755102  3.85714286\n",
            " 3.93877551 4.02040816 4.10204082 4.18367347 4.26530612 4.34693878\n",
            " 4.42857143 4.51020408 4.59183673 4.67346939 4.75510204 4.83673469\n",
            " 4.91836735 5.        ]\n"
          ]
        }
      ]
    },
    {
      "cell_type": "code",
      "source": [
        "generated_matrix = np.linspace(1,5,10)\n",
        "print(generated_matrix)"
      ],
      "metadata": {
        "colab": {
          "base_uri": "https://localhost:8080/"
        },
        "id": "jtMLZbCN47gK",
        "outputId": "73fa3a7e-87e7-4123-a968-a5eb50690af1"
      },
      "execution_count": 41,
      "outputs": [
        {
          "output_type": "stream",
          "name": "stdout",
          "text": [
            "[1.         1.44444444 1.88888889 2.33333333 2.77777778 3.22222222\n",
            " 3.66666667 4.11111111 4.55555556 5.        ]\n"
          ]
        }
      ]
    },
    {
      "cell_type": "code",
      "source": [
        "generated_matrix = np.linspace(0,5,6)\n",
        "print(generated_matrix)"
      ],
      "metadata": {
        "colab": {
          "base_uri": "https://localhost:8080/"
        },
        "id": "GVZNAl1Q5Ily",
        "outputId": "69ef7d89-8a75-464d-c412-f91572be77bf"
      },
      "execution_count": 42,
      "outputs": [
        {
          "output_type": "stream",
          "name": "stdout",
          "text": [
            "[0. 1. 2. 3. 4. 5.]\n"
          ]
        }
      ]
    },
    {
      "cell_type": "markdown",
      "source": [
        "AKSES ELEMEN VEKTOR"
      ],
      "metadata": {
        "id": "_9QcztR75Ya3"
      }
    },
    {
      "cell_type": "code",
      "source": [
        "matrix"
      ],
      "metadata": {
        "colab": {
          "base_uri": "https://localhost:8080/"
        },
        "id": "Kt19VWxJ5aEj",
        "outputId": "f8196fe3-08fc-4f55-99e7-46fde420ed49"
      },
      "execution_count": 43,
      "outputs": [
        {
          "output_type": "execute_result",
          "data": {
            "text/plain": [
              "array([[1, 2, 3, 5],\n",
              "       [4, 5, 6, 6],\n",
              "       [7, 8, 9, 9]])"
            ]
          },
          "metadata": {},
          "execution_count": 43
        }
      ]
    },
    {
      "cell_type": "code",
      "source": [
        "matrix[-1] #akses abris index -1 (baris paling akhir)"
      ],
      "metadata": {
        "colab": {
          "base_uri": "https://localhost:8080/"
        },
        "id": "CDElFos65gc3",
        "outputId": "9d7df280-5a3a-403b-fa9f-747e4b94cf51"
      },
      "execution_count": 46,
      "outputs": [
        {
          "output_type": "execute_result",
          "data": {
            "text/plain": [
              "array([7, 8, 9, 9])"
            ]
          },
          "metadata": {},
          "execution_count": 46
        }
      ]
    },
    {
      "cell_type": "code",
      "source": [
        "#akses pake slice\n",
        "matrix[1:]"
      ],
      "metadata": {
        "colab": {
          "base_uri": "https://localhost:8080/"
        },
        "id": "K1oBcuXK6LBz",
        "outputId": "aeac9fa0-5cf4-4dc8-e713-b2cc15731492"
      },
      "execution_count": 51,
      "outputs": [
        {
          "output_type": "execute_result",
          "data": {
            "text/plain": [
              "array([[4, 5, 6, 6],\n",
              "       [7, 8, 9, 9]])"
            ]
          },
          "metadata": {},
          "execution_count": 51
        }
      ]
    },
    {
      "cell_type": "code",
      "source": [
        "matrix[0:2]"
      ],
      "metadata": {
        "colab": {
          "base_uri": "https://localhost:8080/"
        },
        "id": "269_pws66jSL",
        "outputId": "fa0ceda0-d094-4c4e-a6fa-3f0a9fd3629c"
      },
      "execution_count": 56,
      "outputs": [
        {
          "output_type": "execute_result",
          "data": {
            "text/plain": [
              "array([[1, 2, 3, 5],\n",
              "       [4, 5, 6, 6]])"
            ]
          },
          "metadata": {},
          "execution_count": 56
        }
      ]
    },
    {
      "cell_type": "code",
      "source": [
        "#akses kolom dalam matrix 2d\n",
        "myList = [[1,2,3], \n",
        "          [4,5,6]]\n",
        "myList[0]"
      ],
      "metadata": {
        "colab": {
          "base_uri": "https://localhost:8080/"
        },
        "id": "_HJGQxdV6_4Z",
        "outputId": "0608e427-7581-4f25-b2bf-4b1753e9c61e"
      },
      "execution_count": 58,
      "outputs": [
        {
          "output_type": "execute_result",
          "data": {
            "text/plain": [
              "[1, 2, 3]"
            ]
          },
          "metadata": {},
          "execution_count": 58
        }
      ]
    },
    {
      "cell_type": "code",
      "source": [
        "myList[1][2] #myList [baris][kolom] index -> 0,1,2"
      ],
      "metadata": {
        "colab": {
          "base_uri": "https://localhost:8080/"
        },
        "id": "L5cnjlKq7ZyA",
        "outputId": "0b6ca7f7-eb8b-47e6-d3a6-af7ac3f249d7"
      },
      "execution_count": 60,
      "outputs": [
        {
          "output_type": "execute_result",
          "data": {
            "text/plain": [
              "6"
            ]
          },
          "metadata": {},
          "execution_count": 60
        }
      ]
    },
    {
      "cell_type": "code",
      "source": [
        "matrix"
      ],
      "metadata": {
        "colab": {
          "base_uri": "https://localhost:8080/"
        },
        "id": "tfvoWKkq7kle",
        "outputId": "644494ed-690e-4d04-b1c1-2c5864c706ce"
      },
      "execution_count": 61,
      "outputs": [
        {
          "output_type": "execute_result",
          "data": {
            "text/plain": [
              "array([[1, 2, 3, 5],\n",
              "       [4, 5, 6, 6],\n",
              "       [7, 8, 9, 9]])"
            ]
          },
          "metadata": {},
          "execution_count": 61
        }
      ]
    },
    {
      "cell_type": "code",
      "source": [
        "#idx  [0, 1, 2, 3]"
      ],
      "metadata": {
        "id": "POyml7439i0S"
      },
      "execution_count": null,
      "outputs": []
    },
    {
      "cell_type": "code",
      "source": [
        "matrix[:,1] # matrix -> [baris, kolom] (: -> baris , -1 -> kolom)"
      ],
      "metadata": {
        "colab": {
          "base_uri": "https://localhost:8080/"
        },
        "id": "hZpBKEbN8EIu",
        "outputId": "a9d8973e-4f70-40da-d351-6afd60591f11"
      },
      "execution_count": 66,
      "outputs": [
        {
          "output_type": "execute_result",
          "data": {
            "text/plain": [
              "array([2, 5, 8])"
            ]
          },
          "metadata": {},
          "execution_count": 66
        }
      ]
    },
    {
      "cell_type": "code",
      "source": [
        "matrix[:, 2:3]"
      ],
      "metadata": {
        "colab": {
          "base_uri": "https://localhost:8080/"
        },
        "id": "wjgYwWdv8yJy",
        "outputId": "2bf5f8c4-5ff1-4d90-c962-8eaf9dcb95fe"
      },
      "execution_count": 70,
      "outputs": [
        {
          "output_type": "execute_result",
          "data": {
            "text/plain": [
              "array([[3],\n",
              "       [6],\n",
              "       [9]])"
            ]
          },
          "metadata": {},
          "execution_count": 70
        }
      ]
    },
    {
      "cell_type": "code",
      "source": [
        "matrix"
      ],
      "metadata": {
        "colab": {
          "base_uri": "https://localhost:8080/"
        },
        "id": "D4hfQt_p-Kif",
        "outputId": "4af9fa95-f219-4b1b-b9c1-22821a1f4c70"
      },
      "execution_count": 72,
      "outputs": [
        {
          "output_type": "execute_result",
          "data": {
            "text/plain": [
              "array([[1, 2, 3, 5],\n",
              "       [4, 5, 6, 6],\n",
              "       [7, 8, 9, 9]])"
            ]
          },
          "metadata": {},
          "execution_count": 72
        }
      ]
    },
    {
      "cell_type": "code",
      "source": [
        "matrix[0, 0:3 ] #matrix = angka dari index 0 sampai index <3"
      ],
      "metadata": {
        "colab": {
          "base_uri": "https://localhost:8080/"
        },
        "id": "W4vmzLUT-P-h",
        "outputId": "5fe94369-91af-442a-a8d1-19322ae69c58"
      },
      "execution_count": 75,
      "outputs": [
        {
          "output_type": "execute_result",
          "data": {
            "text/plain": [
              "array([1, 2, 3])"
            ]
          },
          "metadata": {},
          "execution_count": 75
        }
      ]
    },
    {
      "cell_type": "code",
      "source": [
        "#ambil [123, 456]\n",
        "matrix[0:2, 0:3]"
      ],
      "metadata": {
        "colab": {
          "base_uri": "https://localhost:8080/"
        },
        "id": "1ZV7v1JP_VAN",
        "outputId": "e5dab43e-b794-4a6a-97ab-86323746a7c2"
      },
      "execution_count": 76,
      "outputs": [
        {
          "output_type": "execute_result",
          "data": {
            "text/plain": [
              "array([[1, 2, 3],\n",
              "       [4, 5, 6]])"
            ]
          },
          "metadata": {},
          "execution_count": 76
        }
      ]
    },
    {
      "cell_type": "markdown",
      "source": [
        "akses 3 dimensi"
      ],
      "metadata": {
        "id": "WaQkElz0AM62"
      }
    },
    {
      "cell_type": "code",
      "source": [
        "matrix = np.array([[[1, 2, 3],\n",
        "                    [4, 5, 6]],\n",
        "                   \n",
        "                   [[7, 8, 9],\n",
        "                    [10,11,12]]])"
      ],
      "metadata": {
        "id": "af8kj3LN_0B2"
      },
      "execution_count": 77,
      "outputs": []
    },
    {
      "cell_type": "code",
      "source": [
        "matrix.shape"
      ],
      "metadata": {
        "colab": {
          "base_uri": "https://localhost:8080/"
        },
        "id": "8FqpdEKjA3te",
        "outputId": "b1504493-e63b-474b-ccc5-1fa7171dd305"
      },
      "execution_count": 79,
      "outputs": [
        {
          "output_type": "execute_result",
          "data": {
            "text/plain": [
              "(2, 2, 3)"
            ]
          },
          "metadata": {},
          "execution_count": 79
        }
      ]
    },
    {
      "cell_type": "markdown",
      "source": [],
      "metadata": {
        "id": "05l9I4NJBSWv"
      }
    },
    {
      "cell_type": "code",
      "source": [
        "matrix[1]"
      ],
      "metadata": {
        "colab": {
          "base_uri": "https://localhost:8080/"
        },
        "id": "wM8usitLATj-",
        "outputId": "458e5e12-664f-4f75-e9ea-5677f1211154"
      },
      "execution_count": 80,
      "outputs": [
        {
          "output_type": "execute_result",
          "data": {
            "text/plain": [
              "array([[ 7,  8,  9],\n",
              "       [10, 11, 12]])"
            ]
          },
          "metadata": {},
          "execution_count": 80
        }
      ]
    }
  ]
}